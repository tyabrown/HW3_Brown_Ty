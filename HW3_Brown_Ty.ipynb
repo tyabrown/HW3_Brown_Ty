{
 "cells": [
  {
   "cell_type": "code",
   "execution_count": 1,
   "id": "a906685e",
   "metadata": {},
   "outputs": [],
   "source": [
    "#Question 1"
   ]
  },
  {
   "cell_type": "code",
   "execution_count": 31,
   "id": "6da63468",
   "metadata": {},
   "outputs": [
    {
     "name": "stdout",
     "output_type": "stream",
     "text": [
      "66\n",
      "77\n",
      "You cannot find this student's name\n"
     ]
    }
   ],
   "source": [
    "#Q1\n",
    "marks = {'Andy':88, 'Amy':66, 'James': 90, 'Jules': 55, 'Arthur': 77}\n",
    "def StudentLookup(name):\n",
    "    FoundTheName = 0\n",
    "    for a,b in marks.items():\n",
    "        if a == name:\n",
    "            print(b)\n",
    "            FoundTheName = 1\n",
    "    if FoundTheName == 0:\n",
    "        print(\"You cannot find this student's name\")\n",
    "#Examples to prove the function works:\n",
    "StudentLookup('Amy')\n",
    "StudentLookup('Arthur')\n",
    "StudentLookup('Tiberius')"
   ]
  },
  {
   "cell_type": "code",
   "execution_count": 98,
   "id": "2d889a71",
   "metadata": {},
   "outputs": [
    {
     "name": "stdout",
     "output_type": "stream",
     "text": [
      "75.2\n"
     ]
    }
   ],
   "source": [
    "#Q2\n",
    "def MeanGradeFinder(dict):\n",
    "    sum = 0\n",
    "    for a,b in dict.items():\n",
    "        sum += b\n",
    "    mean = sum/len(dict)\n",
    "    print(mean)\n",
    "MeanGradeFinder(marks)"
   ]
  },
  {
   "cell_type": "code",
   "execution_count": 99,
   "id": "baee3cbf",
   "metadata": {},
   "outputs": [],
   "source": [
    "#Question 2"
   ]
  },
  {
   "cell_type": "code",
   "execution_count": 45,
   "id": "a65ae5f9",
   "metadata": {},
   "outputs": [
    {
     "name": "stdout",
     "output_type": "stream",
     "text": [
      "0 0\n",
      "1 1\n",
      "2 4\n",
      "3 9\n",
      "4 16\n",
      "5 25\n",
      "6 36\n",
      "7 49\n",
      "Greater than 8\n"
     ]
    }
   ],
   "source": [
    "def SquareFunction(n,num): #Question is ambiguous about where n should start\n",
    "    while n < num:\n",
    "        print(n,n**2)\n",
    "        n += 1\n",
    "    else:\n",
    "        print(\"Greater than\",num)\n",
    "SquareFunction(0,8) #So here's code that allows n to just be set to anything\n",
    "#If n is supposed to be fixed at 0 that can just be included before the start of the while loop as part of SquareFunction"
   ]
  },
  {
   "cell_type": "code",
   "execution_count": 46,
   "id": "11c197e2",
   "metadata": {},
   "outputs": [],
   "source": [
    "#Question 3"
   ]
  },
  {
   "cell_type": "code",
   "execution_count": 53,
   "id": "af5b235f",
   "metadata": {},
   "outputs": [
    {
     "name": "stdout",
     "output_type": "stream",
     "text": [
      "45\n"
     ]
    }
   ],
   "source": [
    "def SumFunction(num):\n",
    "    count = 0\n",
    "    sum = 0\n",
    "    while count < num:\n",
    "        count += 1\n",
    "        sum += count\n",
    "    print(sum)\n",
    "SumFunction(9) #Arbitrary num chosen to demonstrate function"
   ]
  },
  {
   "cell_type": "code",
   "execution_count": 50,
   "id": "81bdda97",
   "metadata": {},
   "outputs": [],
   "source": [
    "#Question 4"
   ]
  },
  {
   "cell_type": "code",
   "execution_count": 80,
   "id": "4fa2887c",
   "metadata": {},
   "outputs": [
    {
     "name": "stdout",
     "output_type": "stream",
     "text": [
      "1\n",
      "3\n",
      "6\n",
      "10\n",
      "15\n"
     ]
    }
   ],
   "source": [
    "def StepSumFunction(num):\n",
    "    sum = 0\n",
    "    numRange = list(range(num))\n",
    "    for number in numRange:\n",
    "        sum += number + 1\n",
    "        print(sum)\n",
    "StepSumFunction(5) #Arbitrary num chosen to demonstrate function"
   ]
  },
  {
   "cell_type": "code",
   "execution_count": 81,
   "id": "f56d13a0",
   "metadata": {},
   "outputs": [],
   "source": [
    "#Question 5"
   ]
  },
  {
   "cell_type": "code",
   "execution_count": 50,
   "id": "ce9587d1",
   "metadata": {},
   "outputs": [
    {
     "name": "stdout",
     "output_type": "stream",
     "text": [
      "4950\n",
      "50.0\n",
      "28.722813232690143\n"
     ]
    }
   ],
   "source": [
    "import statistics\n",
    "def Question5Function(InputList):\n",
    "    sum = 0\n",
    "    mean = 0\n",
    "    standardDev = 0\n",
    "    for num in InputList:\n",
    "        sum += num\n",
    "    print(sum)\n",
    "    mean = sum/len(InputList)\n",
    "    print(mean)\n",
    "    standardDev = statistics.stdev(InputList)\n",
    "    print(standardDev)\n",
    "#Defining the list seperately so that the function is flexible\n",
    "#and can take a variety of different input lists/ranges\n",
    "HundredList = range(1,100)\n",
    "Question5Function(HundredList)"
   ]
  },
  {
   "cell_type": "code",
   "execution_count": 84,
   "id": "a8a17c84",
   "metadata": {},
   "outputs": [],
   "source": [
    "#Question 6"
   ]
  },
  {
   "cell_type": "code",
   "execution_count": 45,
   "id": "a598a058",
   "metadata": {},
   "outputs": [
    {
     "data": {
      "text/plain": [
       "2"
      ]
     },
     "execution_count": 45,
     "metadata": {},
     "output_type": "execute_result"
    }
   ],
   "source": [
    "#Q1\n",
    "def minimal(v1,v2,v3,v4):\n",
    "    minOutput = v1\n",
    "    if v2 < minOutput:\n",
    "        minOutput = v2\n",
    "    if v3 < minOutput:\n",
    "        minOutput = v3\n",
    "    if v4 < minOutput:\n",
    "        minOutput = v4\n",
    "    return(minOutput)\n",
    "#Demo:\n",
    "minimal(9,3,6,2)"
   ]
  },
  {
   "cell_type": "code",
   "execution_count": 49,
   "id": "2984ce6f",
   "metadata": {},
   "outputs": [
    {
     "name": "stdout",
     "output_type": "stream",
     "text": [
      "1\n"
     ]
    }
   ],
   "source": [
    "#Q2\n",
    "def printedMinimal(v1,v2,v3,v4):\n",
    "    print(minimal(v1,v2,v3,v4))\n",
    "#Demo:\n",
    "printedMinimal(3,4,1,78)"
   ]
  }
 ],
 "metadata": {
  "kernelspec": {
   "display_name": "Python 3 (ipykernel)",
   "language": "python",
   "name": "python3"
  },
  "language_info": {
   "codemirror_mode": {
    "name": "ipython",
    "version": 3
   },
   "file_extension": ".py",
   "mimetype": "text/x-python",
   "name": "python",
   "nbconvert_exporter": "python",
   "pygments_lexer": "ipython3",
   "version": "3.9.7"
  }
 },
 "nbformat": 4,
 "nbformat_minor": 5
}
